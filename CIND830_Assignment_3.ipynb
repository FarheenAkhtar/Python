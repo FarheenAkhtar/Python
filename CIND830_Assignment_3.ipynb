{
 "cells": [
  {
   "cell_type": "markdown",
   "metadata": {
    "id": "zb9n5Pg2TJKM"
   },
   "source": [
    "## CIND830 - Python Programming for Data Science  \n",
    "### Assignment 3 (10% of the final grade) \n",
    "### Due on April 12th, 2021 11:59 PM"
   ]
  },
  {
   "cell_type": "code",
   "execution_count": 5,
   "metadata": {},
   "outputs": [
    {
     "name": "stdout",
     "output_type": "stream",
     "text": [
      "[ 0 20]\n"
     ]
    }
   ],
   "source": [
    "import numpy as np\n",
    "array1 = np.arange(0,30,20)\n",
    "print(array1)"
   ]
  },
  {
   "cell_type": "code",
   "execution_count": 9,
   "metadata": {},
   "outputs": [
    {
     "ename": "ValueError",
     "evalue": "cannot reshape array of size 2 into shape (3,5)",
     "output_type": "error",
     "traceback": [
      "\u001b[0;31m---------------------------------------------------------------------------\u001b[0m",
      "\u001b[0;31mValueError\u001b[0m                                Traceback (most recent call last)",
      "\u001b[0;32m<ipython-input-9-465eab937f4a>\u001b[0m in \u001b[0;36m<module>\u001b[0;34m\u001b[0m\n\u001b[0;32m----> 1\u001b[0;31m \u001b[0marray1\u001b[0m\u001b[0;34m.\u001b[0m\u001b[0mreshape\u001b[0m\u001b[0;34m(\u001b[0m\u001b[0;36m3\u001b[0m\u001b[0;34m,\u001b[0m\u001b[0;36m5\u001b[0m\u001b[0;34m)\u001b[0m\u001b[0;34m\u001b[0m\u001b[0;34m\u001b[0m\u001b[0m\n\u001b[0m\u001b[1;32m      2\u001b[0m \u001b[0mprint\u001b[0m\u001b[0;34m(\u001b[0m\u001b[0marray1\u001b[0m\u001b[0;34m)\u001b[0m\u001b[0;34m\u001b[0m\u001b[0;34m\u001b[0m\u001b[0m\n",
      "\u001b[0;31mValueError\u001b[0m: cannot reshape array of size 2 into shape (3,5)"
     ]
    }
   ],
   "source": [
    "array1.reshape(3,5)\n",
    "print(array1)"
   ]
  },
  {
   "cell_type": "code",
   "execution_count": 10,
   "metadata": {},
   "outputs": [
    {
     "ename": "SyntaxError",
     "evalue": "invalid syntax (<ipython-input-10-8d918ee284e1>, line 1)",
     "output_type": "error",
     "traceback": [
      "\u001b[0;36m  File \u001b[0;32m\"<ipython-input-10-8d918ee284e1>\"\u001b[0;36m, line \u001b[0;32m1\u001b[0m\n\u001b[0;31m    reshape(array1).(5,3)\u001b[0m\n\u001b[0m                    ^\u001b[0m\n\u001b[0;31mSyntaxError\u001b[0m\u001b[0;31m:\u001b[0m invalid syntax\n"
     ]
    }
   ],
   "source": [
    "reshape(array1).(5,3)\n",
    "print(array1)"
   ]
  },
  {
   "cell_type": "markdown",
   "metadata": {
    "id": "Oua2yEQZTdq9"
   },
   "source": [
    "*****\n",
    "This is a Jupyter Notebook document that extends a simple formatting syntax for authoring HTML and PDF.\n",
    "Review [this](https://jupyter-notebook.readthedocs.io/en/stable/notebook.html) website for more details on using Jupyter Notebook.\n",
    "\n",
    "Use the JupyterHub server on the Google Cloud Platform, provided by your designated instructor, for this assignment. \n",
    "Ensure using **Python 3.7.6** release then complete the assignment by inserting your Python code wherever seeing the string \"###CODE HERE ###\"\n",
    "\n",
    "When you click the `File` button, from the top navigation bar, then select `Export Notebook As ...`,\n",
    "a document (PDF or HTML format) will be generated that includes\n",
    " both the assignment content and the output of any embedded Python code chunks.\n",
    "\n",
    "Using [these](https://www.ryerson.ca/courses/students/tutorials/assignments/) guidelines,\n",
    "submit **both** the IPYNB and the exported file (PDF or HTML).\n",
    "Failing to submit both files will be subject to mark deduction."
   ]
  },
  {
   "cell_type": "code",
   "execution_count": null,
   "metadata": {},
   "outputs": [],
   "source": []
  },
  {
   "cell_type": "markdown",
   "metadata": {
    "id": "2XVANSUVTgmc"
   },
   "source": [
    "### Question 1 **[30 pts]**:"
   ]
  },
  {
   "cell_type": "markdown",
   "metadata": {
    "id": "T_ueqP8hMKKP"
   },
   "source": [
    "**a)** Complete the methods of the following `Stack` class according to their description"
   ]
  },
  {
   "cell_type": "code",
   "execution_count": 91,
   "metadata": {
    "id": "LGPsOUXiS6Uf"
   },
   "outputs": [],
   "source": [
    "class Stack():\n",
    "    def __init__(self):\n",
    "        \"\"\" Initialize a new stack \"\"\"\n",
    "        self.elements = []\n",
    "    def push(self, new_item):\n",
    "        \"\"\" Append the new item to the stack \"\"\"\n",
    "        self.elements.append(new_item)\n",
    "    def pop(self):\n",
    "        \"\"\" Remove and return the last item from the stack \"\"\"\n",
    "        return self.elements.pop(-1)      #LIFO\n",
    "    def size(self):\n",
    "        \"\"\" Return the total number of elements in the stack \"\"\"\n",
    "        return len(self.elements)\n",
    "    def is_empty(self):\n",
    "        \"\"\" Return True if the stack is empty and False if it is not empty \"\"\"\n",
    "        if len(self.elements) == 0:\n",
    "            return True\n",
    "        else:\n",
    "            return False\n",
    "    def peek(self):\n",
    "        \"\"\" Return the element at the top of the stack or return None if the stack is empty \"\"\"\n",
    "        if self.is_empty():                               #Cross-reference the method is_empty\n",
    "            return None\n",
    "        else:\n",
    "            return self.elements[- 1]   #View element at the top of stack\n",
    "    def get_stack(self):\n",
    "        return self.elements"
   ]
  },
  {
   "cell_type": "markdown",
   "metadata": {
    "id": "ASIiP_EGRpgZ"
   },
   "source": [
    "Use the Stack class you defined in `Q1a` to solve the following problems."
   ]
  },
  {
   "cell_type": "markdown",
   "metadata": {
    "id": "OZtV4CYYMRV7"
   },
   "source": [
    "**b)** Write a function to detect whether the orders of brackets is correct using stacks. Some examples are given below:"
   ]
  },
  {
   "cell_type": "code",
   "execution_count": 210,
   "metadata": {
    "id": "V8TkHXcYMRpW"
   },
   "outputs": [],
   "source": [
    "exp1 = \"(2+3)+(1-5)\" # True\n",
    "exp2 = \"((3*2))*(7/3))\" # False\n",
    "exp3 = \"(3*5))]\" # False"
   ]
  },
  {
   "cell_type": "code",
   "execution_count": 277,
   "metadata": {},
   "outputs": [],
   "source": [
    "# def is_valid(exp):\n",
    "#   \"\"\" Check the orders of the brackets\n",
    "#       Returns True or False\n",
    "#   \"\"\"\n",
    "\n",
    "def is_valid(exp):\n",
    "    s= Stack()\n",
    "    opening = ['(', '[', '{']\n",
    "    closing = [')', ']', '}']\n",
    "    for i in exp:\n",
    "        if i in opening:\n",
    "            s.push(i)\n",
    "        elif i in closing:\n",
    "            pos = closing.index(i)\n",
    "            if s.size()>0 and opening[pos] == s.pop():\n",
    "                continue\n",
    "            else:\n",
    "                return False\n",
    "        elif s.size() == 0:\n",
    "            return True"
   ]
  },
  {
   "cell_type": "code",
   "execution_count": 278,
   "metadata": {
    "id": "WCQE8vwMPxg9"
   },
   "outputs": [
    {
     "data": {
      "text/plain": [
       "True"
      ]
     },
     "execution_count": 278,
     "metadata": {},
     "output_type": "execute_result"
    }
   ],
   "source": [
    "is_valid(exp1)"
   ]
  },
  {
   "cell_type": "code",
   "execution_count": 274,
   "metadata": {
    "id": "YwKnc00BPwfF"
   },
   "outputs": [
    {
     "data": {
      "text/plain": [
       "False"
      ]
     },
     "execution_count": 274,
     "metadata": {},
     "output_type": "execute_result"
    }
   ],
   "source": [
    "is_valid(exp2)"
   ]
  },
  {
   "cell_type": "code",
   "execution_count": 275,
   "metadata": {
    "id": "_tzEaZ7mPwuE"
   },
   "outputs": [
    {
     "data": {
      "text/plain": [
       "False"
      ]
     },
     "execution_count": 275,
     "metadata": {},
     "output_type": "execute_result"
    }
   ],
   "source": [
    "is_valid(exp3)"
   ]
  },
  {
   "cell_type": "markdown",
   "metadata": {
    "id": "lJUBQ390ORLZ"
   },
   "source": [
    "**c)** Write a simple spell checking function using **stacks** that removes consecutive similar strings from a sequence of words. Some examples are given below \\\\"
   ]
  },
  {
   "cell_type": "markdown",
   "metadata": {
    "id": "vQlouBFKSh8K"
   },
   "source": [
    "**HINT**: You can use the `peek` function of the Stack "
   ]
  },
  {
   "cell_type": "markdown",
   "metadata": {
    "id": "OZBGIpW4Sm6e"
   },
   "source": [
    "Input: hello world world \\\\\n",
    "Output: hello world"
   ]
  },
  {
   "cell_type": "markdown",
   "metadata": {
    "id": "li04Ps64TBwO"
   },
   "source": [
    "Input: Such an an amazing time to be alive! \\\\\n",
    "Output: Such an amazing time to be alive!"
   ]
  },
  {
   "cell_type": "code",
   "execution_count": 94,
   "metadata": {
    "id": "Rhem08S2Qjfc"
   },
   "outputs": [],
   "source": [
    "text1 = \"hello world world\"\n",
    "text2 = \"Such an an amazing time to be alive!\""
   ]
  },
  {
   "cell_type": "code",
   "execution_count": 104,
   "metadata": {
    "colab": {
     "base_uri": "https://localhost:8080/",
     "height": 125
    },
    "id": "ehxjtggUQjhg",
    "outputId": "3b75b5bf-e681-4999-fb78-fcf22f97b1f9"
   },
   "outputs": [],
   "source": [
    "def remove_consecutive_repeats(text):\n",
    "  ### CODE HERE ###\n",
    "    word1 = text.split()\n",
    "    L1 = Stack()\n",
    "    for i in word1:\n",
    "        if i != L1.peek():\n",
    "            L1.push(i)\n",
    "    return(L1.get_stack())"
   ]
  },
  {
   "cell_type": "code",
   "execution_count": 105,
   "metadata": {
    "id": "Oqeb_EbZQjjj"
   },
   "outputs": [
    {
     "data": {
      "text/plain": [
       "['hello', 'world']"
      ]
     },
     "execution_count": 105,
     "metadata": {},
     "output_type": "execute_result"
    }
   ],
   "source": [
    "remove_consecutive_repeats(text1)"
   ]
  },
  {
   "cell_type": "code",
   "execution_count": 106,
   "metadata": {
    "id": "oDj-jSSGQjlz"
   },
   "outputs": [
    {
     "data": {
      "text/plain": [
       "['Such', 'an', 'amazing', 'time', 'to', 'be', 'alive!']"
      ]
     },
     "execution_count": 106,
     "metadata": {},
     "output_type": "execute_result"
    }
   ],
   "source": [
    "remove_consecutive_repeats(text2)"
   ]
  },
  {
   "cell_type": "markdown",
   "metadata": {
    "id": "KE-n_dv5TjDV"
   },
   "source": [
    "### Question 2 **[30 pts]**:\n",
    "\n",
    "\n"
   ]
  },
  {
   "cell_type": "markdown",
   "metadata": {
    "id": "g_VbWFF0Y9Va"
   },
   "source": [
    "Implement Round Robin Scheduling algorithm using queues in Python. It is the most commonly used algorithm for CPU scheduling. \n",
    "- Each process takes an equal share of CPU time. For this question we choose a time quantum of 2 units.\n",
    "- After being processed for a predefined time, if the process still requires more computation, it is passed to a waiting queue."
   ]
  },
  {
   "cell_type": "markdown",
   "metadata": {
    "id": "3JkZ4i7pleDS"
   },
   "source": [
    "Answer the following questions:\n",
    "- Report the time each process is completed\n",
    "- Report wait times of each process in the queue\n"
   ]
  },
  {
   "cell_type": "markdown",
   "metadata": {
    "id": "2vsMr5mlluHc"
   },
   "source": [
    "$$\\text{Wait time} = \\text{End time} - \\text{Arrival Time} - \\text{Required Time}$$"
   ]
  },
  {
   "cell_type": "markdown",
   "metadata": {
    "id": "vYRpThg9j5aK"
   },
   "source": [
    ">Process ID | Arrival Time | Required Time |\n",
    ">--- | --- | ---\n",
    ">P1 | 0 | 4\n",
    ">P2 | 1 | 3\n",
    ">P3 | 2 | 2\n",
    ">P4 | 3 | 1\n"
   ]
  },
  {
   "cell_type": "code",
   "execution_count": 30,
   "metadata": {
    "id": "G_CIQvVTjJDe"
   },
   "outputs": [],
   "source": [
    "from collections import deque\n",
    "time_quantum = 2"
   ]
  },
  {
   "cell_type": "code",
   "execution_count": 6,
   "metadata": {
    "id": "ohPozokutM_o"
   },
   "outputs": [],
   "source": [
    "class Process:\n",
    "  def __init__(self, name, arrival_time, required_time):\n",
    "    self.name = name\n",
    "    self.arrival_time = arrival_time\n",
    "    self.required_time = required_time\n",
    "    self.time_processed = 0\n",
    "  def __repr__(self):\n",
    "    return self.name"
   ]
  },
  {
   "cell_type": "code",
   "execution_count": 7,
   "metadata": {
    "id": "UIfALROytbh5"
   },
   "outputs": [],
   "source": [
    "p0 = Process('P1', 0, 4)\n",
    "p1 = Process('P2', 1, 3)\n",
    "p2 = Process('P3', 2, 2)\n",
    "p3 = Process('P4', 3, 1)\n",
    "processes = [p0, p1, p2, p3]"
   ]
  },
  {
   "cell_type": "code",
   "execution_count": 8,
   "metadata": {
    "id": "8oG3avRfm1dB"
   },
   "outputs": [],
   "source": [
    "end_times = {process.name:0 for process in processes}\n",
    "wait_times = {process.name:0 for process in processes}"
   ]
  },
  {
   "cell_type": "code",
   "execution_count": 31,
   "metadata": {},
   "outputs": [
    {
     "ename": "SyntaxError",
     "evalue": "unexpected EOF while parsing (<ipython-input-31-9ba2ba0cdbaa>, line 6)",
     "output_type": "error",
     "traceback": [
      "\u001b[0;36m  File \u001b[0;32m\"<ipython-input-31-9ba2ba0cdbaa>\"\u001b[0;36m, line \u001b[0;32m6\u001b[0m\n\u001b[0;31m    ### CODE HERE ###\u001b[0m\n\u001b[0m                     ^\u001b[0m\n\u001b[0;31mSyntaxError\u001b[0m\u001b[0;31m:\u001b[0m unexpected EOF while parsing\n"
     ]
    }
   ],
   "source": [
    "queue = deque()\n",
    "running_proc = None # Tracks running process in the CPU\n",
    "type(running_proc)\n",
    "running_proc_time = 0 # Tracks the time running process spent in the CPU\n",
    "for t in range(11):\n",
    "  ### CODE HERE ###"
   ]
  },
  {
   "cell_type": "code",
   "execution_count": 10,
   "metadata": {
    "id": "N7fiTOYMmLMB"
   },
   "outputs": [
    {
     "name": "stdout",
     "output_type": "stream",
     "text": [
      "{'P1': 0, 'P2': 0, 'P3': 0, 'P4': 0}\n",
      "{'P1': 0, 'P2': 0, 'P3': 0, 'P4': 0}\n"
     ]
    }
   ],
   "source": [
    "print(end_times) # End times for each process\n",
    "print(wait_times) # Wait times for each process in the queue"
   ]
  },
  {
   "cell_type": "code",
   "execution_count": 42,
   "metadata": {},
   "outputs": [
    {
     "name": "stdout",
     "output_type": "stream",
     "text": [
      "P1 0\n",
      "P2 1\n",
      "current: P2 0 [P3, P4] [P2]\n",
      "current: P2 remaining to process: 1 [P3, P4]\n",
      "waiting in queue [P2, P2]\n",
      "final [P2]\n",
      "P3 2\n",
      "current: P3 1 [P4] [P2, P2, P3]\n",
      "current: P3 remaining to process: 0 [P4]\n",
      "final [P2, P3]\n",
      "P4 3\n",
      "current: P4 2 [] [P2, P2, P3, P4]\n",
      "current: P4 remaining to process: -1 []\n",
      "final [P2, P3, P4]\n",
      "\n",
      "Time completed: P2:\t3\tTime completed: P3:\t5\t\n",
      "Time completed: P4:\t8\t"
     ]
    }
   ],
   "source": [
    "#Note to TA: not able to understand the above functions so wrote my own as I understand them\n",
    "p0 = Process('P1', 0, 4)\n",
    "p1 = Process('P2', 1, 3)\n",
    "p2 = Process('P3', 2, 2)\n",
    "p3 = Process('P4', 3, 1)\n",
    "processes = [p0, p1, p2, p3]\n",
    "\n",
    "timer = 0\n",
    "start =0\n",
    "#Initialize queue\n",
    "queue = [Process]\n",
    "#define request queue\n",
    "queue = processes\n",
    "\n",
    "def time_completed(processes):\n",
    "    counter = 0\n",
    "    processes.sort(key=lambda x: x.name, reverse=False)\n",
    "    for process in processes:\n",
    "        if counter % 2 == 0:\n",
    "            print()\n",
    "        print('Time completed:','{}:\\t{}\\t'.format(\n",
    "            process.name, process.required_time), end=\"\")\n",
    "        counter += 1\n",
    "    \n",
    "#scheduled queue\n",
    "roundrobin = []\n",
    "final = []\n",
    "while queue.__len__() > 0:\n",
    "    current = queue.pop(0)\n",
    "    print(current,current.arrival_time)\n",
    "    #arrive at time mentioned in process\n",
    "    if current.arrival_time !=start:\n",
    "        roundrobin.append(current)\n",
    "        print('current:',current,start,queue,roundrobin)\n",
    "        start+=1\n",
    "    \n",
    "        #time needed to process less CPU quantum time\n",
    "        current.required_time -= 2\n",
    "        print('current:',current,'remaining to process:',current.required_time,queue)\n",
    "        timer += 2\n",
    "        #Place in queue of waitlist\n",
    "        if current.required_time > 0:\n",
    "            roundrobin.append(current)\n",
    "            print('waiting in queue',roundrobin)\n",
    "        \n",
    "        # print(current.w_time)\n",
    "        current.required_time = timer + current.required_time\n",
    "        final.append(current)\n",
    "        print('final',final)\n",
    "        timer = timer + current.arrival_time\n",
    "\n",
    "time_completed(final)"
   ]
  },
  {
   "cell_type": "markdown",
   "metadata": {},
   "source": [
    "The correct solution is \n",
    "Time completed P1: 8 Wait time in queue P1: 4\n",
    "Time completed P2: 10 Wait time in queue P2: 6\n",
    "Time completed P3: 6 Wait time in queue P3: 2\n",
    "Time completed P4: 9 Wait time in queue P3: 5\n"
   ]
  },
  {
   "cell_type": "markdown",
   "metadata": {
    "id": "7sb2R8AP7xp_"
   },
   "source": [
    "### Question 3 **[60 pts]**:\n",
    "\n",
    "\n"
   ]
  },
  {
   "cell_type": "markdown",
   "metadata": {
    "id": "u5MYNFS67xqL"
   },
   "source": [
    "Write a funciton to find the maximum length possible by cutting N given sticks into at least K pieces. \\\n",
    "Given an array `stick[]` of size **N**, representing the length of *N* pieces of stick and an integer *K*, at least **K** pieces of the same length need to be cut from the given stick pieces. The task is to find the maximum possible length of these K stick pieces that can be obtained. \\\n",
    "\\\n",
    "Examples: \\\n",
    "\n",
    "Input: stick[] = {5, 9, 7}, K = 3 \\\n",
    "Output: 5 \\\n",
    "\n",
    "Explanation: \\\n",
    "Cut arr[0] = 5 = 5 \\\n",
    "Cut arr[1] = 9 = 5 + 4 \\\n",
    "Cut arr[2] = 5 = 5 + 2 \\\n",
    "Therefore, the maximum length that can be obtained by cutting the sticks into 3 pieces is 5.\\\n",
    "\n",
    "Input: stick[] = {5, 9, 7}, K = 4 \\\n",
    "Output: 4 \\\n",
    "\n",
    "Explanation: \\\n",
    "Cut arr[0] = 5 = 4 + 1 \\\n",
    "Cut arr[1] = 9 = 2 * 4 + 1 \\\n",
    "Cut arr[2] = 7 = 4 + 3 \\\n",
    "Therefore, the maximum length that can be obtained by cutting the sticks into 4 pieces is 4. \n"
   ]
  },
  {
   "cell_type": "code",
   "execution_count": 73,
   "metadata": {
    "id": "TGd92hc_7xqL"
   },
   "outputs": [
    {
     "data": {
      "text/plain": [
       "4"
      ]
     },
     "execution_count": 73,
     "metadata": {},
     "output_type": "execute_result"
    }
   ],
   "source": [
    "### CODE HERE ###\n",
    "wood = {5,9,7}\n",
    "#number of sticks user wants\n",
    "k= 4\n",
    "    \n",
    "def findMaxLen(wood,k):\n",
    "    if len(wood) == k:\n",
    "        sizing = min(wood)\n",
    "        return sizing\n",
    "\n",
    "    else:\n",
    "        choices = []\n",
    "        for val in wood:\n",
    "            if val//k >1:\n",
    "                y = min(wood)\n",
    "                choices.append(y)\n",
    "                continue\n",
    "            elif val//k == 1:\n",
    "                first_pieces_legnth = k\n",
    "                choices.append(first_pieces_legnth)\n",
    "\n",
    "        return min(choices)\n",
    "\n",
    "findMaxLen(wood,k)"
   ]
  },
  {
   "cell_type": "markdown",
   "metadata": {
    "id": "T4fxYksbEDfP"
   },
   "source": [
    "### Question 4 **[20 pts]**: \n",
    "Write a function to move all negative numbers to the beginning and positives to the end.  \\\n",
    "An array contains both positive and negative numbers in random order. \\\n",
    "Rearrange the array elements so that all negative numbers appear before all positive numbers.  \\\n",
    "\n",
    "Example : \n",
    "\n",
    "Input: -12, 11, -13, -5, 6, -7, 5, -3, -6 \\\n",
    "Output: -12 -13 -5 -7 -3 -6 11 6 5 \\\n",
    "Note: Order of elements is **not** important."
   ]
  },
  {
   "cell_type": "code",
   "execution_count": 85,
   "metadata": {
    "id": "jBmo3JFs7xqM"
   },
   "outputs": [
    {
     "data": {
      "text/plain": [
       "[-12, -13, -5, -7, -3, -6, 11, 6, 5]"
      ]
     },
     "execution_count": 85,
     "metadata": {},
     "output_type": "execute_result"
    }
   ],
   "source": [
    "### CODE HERE ###\n",
    "#Note to TA: question was ambiguous so first solution is solving with arrays and second with solved with sorting algorithm\n",
    "lyst = [-12,11,-13,-5,6,-7,5,-3,-6]\n",
    "\n",
    "def Sort(lyst):\n",
    "    arr1 =[]\n",
    "    arr2 =[]\n",
    "    for i in lyst:\n",
    "        if i<0:\n",
    "            arr1.append(i)\n",
    "        else:\n",
    "            arr2.append(i)\n",
    "\n",
    "    return (arr1+arr2)\n",
    "\n",
    "Sort(lyst)\n"
   ]
  },
  {
   "cell_type": "code",
   "execution_count": 115,
   "metadata": {},
   "outputs": [
    {
     "data": {
      "text/plain": [
       "[-13, -12, -7, -6, -5, -3, 5, 6, 11]"
      ]
     },
     "execution_count": 115,
     "metadata": {},
     "output_type": "execute_result"
    }
   ],
   "source": [
    "def swap(lyst,i,j):\n",
    "    #Exchanges the items at positions i and j.\n",
    "    temp = lyst[i]\n",
    "    lyst[i] = lyst[j]\n",
    "    lyst[j] = temp\n",
    "    \n",
    "def bubbleSort(lyst):\n",
    "    n = len(lyst)\n",
    "    while n>1:\n",
    "        i = 1\n",
    "        while i<n:\n",
    "            if lyst[i] < lyst[i-1]:\n",
    "                swap(lyst,i, i-1)\n",
    "            i += 1\n",
    "        n -= 1\n",
    "    return lyst\n",
    "\n",
    "bubbleSort(lyst)"
   ]
  },
  {
   "cell_type": "code",
   "execution_count": null,
   "metadata": {},
   "outputs": [],
   "source": []
  }
 ],
 "metadata": {
  "colab": {
   "collapsed_sections": [],
   "name": "CIND830W21 Assignment 3.ipynb",
   "provenance": []
  },
  "kernelspec": {
   "display_name": "Python 3",
   "language": "python",
   "name": "python3"
  },
  "language_info": {
   "codemirror_mode": {
    "name": "ipython",
    "version": 3
   },
   "file_extension": ".py",
   "mimetype": "text/x-python",
   "name": "python",
   "nbconvert_exporter": "python",
   "pygments_lexer": "ipython3",
   "version": "3.7.6"
  }
 },
 "nbformat": 4,
 "nbformat_minor": 4
}
