{
 "cells": [
  {
   "cell_type": "markdown",
   "metadata": {
    "id": "TX_-QfCapg5r"
   },
   "source": [
    "## CIND830 - Python Programming for Data Science  \n",
    "### Assignment 2 (10% of the final grade)\n",
    "### Due on March 15, 2021 11:59 PM"
   ]
  },
  {
   "cell_type": "markdown",
   "metadata": {
    "id": "U8IqCJzxpg5t"
   },
   "source": [
    "*****\n",
    "This is a Jupyter Notebook document that extends a simple formatting syntax for authoring HTML and PDF.\n",
    "Review [this](https://jupyter-notebook.readthedocs.io/en/stable/notebook.html) website for more details on using Juputer Notebook.\n",
    "\n",
    "Use the JupyterHub server on the Google Cloud Platform, provided by your designated instructor, for this assignment. Ensure using Python 3.7.6 release then complete the assignment by inserting your Python code wherever seeing the string \"#INSERT YOUR ANSWER HERE.\"\n",
    "\n",
    "When you click the `File` button, from the top navigation bar, then select `Export Notebook As ...`,\n",
    "a document (PDF or HTML format) will be generated that includes\n",
    " both the assignment content and the output of any embedded Python code chunks.\n",
    "\n",
    "Using [these](https://www.ryerson.ca/courses/students/tutorials/assignments/) guidelines,\n",
    "submit **both** the IPYNB and the exported file (PDF or HTML).\n",
    "Failing to submit both files will be subject to mark deduction."
   ]
  },
  {
   "cell_type": "markdown",
   "metadata": {
    "id": "_w2FpDl5pg5u"
   },
   "source": [
    "*****"
   ]
  },
  {
   "cell_type": "markdown",
   "metadata": {
    "id": "EgCYUXsUpg5w"
   },
   "source": [
    "### Question 1 **[50 pts]**:"
   ]
  },
  {
   "cell_type": "markdown",
   "metadata": {
    "id": "U8EiOXpFAvO0"
   },
   "source": [
    "**a)** **[15 pts]** Define a function called `isSymmetrical` that takes a string value as a parameter and returns `TRUE` if the given string is Symmetrical. A string is said to be symmetrical if the reverse of the string is the same as string. For example, “madam” is symmetrical, but “water” is not symmetrical."
   ]
  },
  {
   "cell_type": "code",
   "execution_count": 25,
   "metadata": {
    "id": "uDtTitw9AvO1",
    "pycharm": {
     "name": "#%%\n"
    }
   },
   "outputs": [
    {
     "name": "stdin",
     "output_type": "stream",
     "text": [
      "Enter a word that is a palindrome: water\n"
     ]
    },
    {
     "name": "stdout",
     "output_type": "stream",
     "text": [
      "False\n"
     ]
    }
   ],
   "source": [
    "#INSERT YOUR ANSWER HERE.\n",
    "\n",
    "#user inputs string\n",
    "x = str(input(\"Enter a word that is a palindrome:\"))\n",
    "\n",
    "#function reverses string and then applies logical check\n",
    "def isSymmetrical (txt):\n",
    "    return txt==(txt) [::-1]\n",
    "\n",
    "print(isSymmetrical (x))"
   ]
  },
  {
   "cell_type": "markdown",
   "metadata": {
    "id": "7P6eyfpepg58"
   },
   "source": [
    "**b)** **[5 pts]** Modify the `isSymmetrical` function you created in Q1.a to take any type of data as an input and return `TRUE` if the input is symmetrical. For example, \"12321\" is symmetrical, but \"12345\" is not symmetrical."
   ]
  },
  {
   "cell_type": "code",
   "execution_count": 26,
   "metadata": {
    "id": "s2xo2uaYpg59",
    "pycharm": {
     "name": "#%%\n"
    },
    "tags": [
     "parameters"
    ]
   },
   "outputs": [
    {
     "name": "stdin",
     "output_type": "stream",
     "text": [
      "Enter any word or number to check: water\n"
     ]
    },
    {
     "name": "stdout",
     "output_type": "stream",
     "text": [
      "False\n"
     ]
    }
   ],
   "source": [
    "#INSERT YOUR ANSWER HERE.\n",
    "\n",
    "#user inputs any data type\n",
    "x1 = input(\"Enter any word or number to check:\")\n",
    "\n",
    "#function reverses variable and then applies logical check\n",
    "def isSymmetrical (txt):\n",
    "    return txt==(txt) [::-1]\n",
    "\n",
    "print(isSymmetrical(x1))"
   ]
  },
  {
   "cell_type": "markdown",
   "metadata": {
    "id": "xC08P3Mvpg6C"
   },
   "source": [
    "**c)** **[10 pts]** Define a function called `isSymmetricalVec` that calls `isSymmetrical` function you updated in Q1.b to take a list of elements and return their results in a list.  For example, given \\[\"1441\", \"Apple\", \"radar\", \"232\", \"plane\"\\] the function returns \\[`TRUE`, `FALSE`, `TRUE`, `TRUE`, `FALSE`\\]"
   ]
  },
  {
   "cell_type": "code",
   "execution_count": 29,
   "metadata": {
    "id": "MVoBD9X1pg6D",
    "pycharm": {
     "name": "#%%\n"
    },
    "tags": []
   },
   "outputs": [
    {
     "name": "stdin",
     "output_type": "stream",
     "text": [
      "Enter word or numbers with spaces: 1441 Apple radar 232 plane\n"
     ]
    },
    {
     "name": "stdout",
     "output_type": "stream",
     "text": [
      "[True, False, True, True, False]\n"
     ]
    }
   ],
   "source": [
    "#### INSERT YOUR ANSWER HERE.\n",
    "\n",
    "#ask user for elements\n",
    "elements = input(\"Enter word or numbers with spaces:\")\n",
    "\n",
    "def isSymmetricalVec (txt):\n",
    "    #split elements on whitespace to save as list\n",
    "    word1 = txt.split()\n",
    "    #for-loop to check each word in our list word1 for defined function\n",
    "    L1 = []\n",
    "    for i in word1:\n",
    "        y1= isSymmetrical(i)\n",
    "        L1.append(y1)\n",
    "    return L1\n",
    "    \n",
    "print(isSymmetricalVec(elements))"
   ]
  },
  {
   "cell_type": "markdown",
   "metadata": {
    "id": "M4dHoJWYpg6G"
   },
   "source": [
    "**d)** **[10 pts]** Define a function called `isSymmetricalDict` by modifying the function you created in Q1.c to return the results in a dictionary with their corresponding input elements. \\\n",
    "For example, given \\[\"1441\", \"Apple\", \"radar\", \"232\", \"plane\"\\] the function returns {\"1441\": `TRUE`, \"Apple\": `FALSE`, \"radar\": `TRUE`, \"232\": `TRUE`, \"plane\": `FALSE`\\}"
   ]
  },
  {
   "cell_type": "code",
   "execution_count": 42,
   "metadata": {
    "id": "gtgmUSaQpg6H",
    "pycharm": {
     "name": "#%%\n"
    },
    "tags": []
   },
   "outputs": [
    {
     "name": "stdin",
     "output_type": "stream",
     "text": [
      "Enter word or numbers with spaces: 1441 Apple radar 232 plane\n"
     ]
    },
    {
     "name": "stdout",
     "output_type": "stream",
     "text": [
      "{'1441': True, 'Apple': False, 'radar': True, '232': True, 'plane': False}\n"
     ]
    }
   ],
   "source": [
    "# INSERT YOUR ANSWER HERE.\n",
    "\n",
    "def isSymmetrical (txt):\n",
    "    return txt==(txt) [::-1]\n",
    "\n",
    "def isSymmetricalDict (elements):\n",
    "    D1 = {}\n",
    "    for i in elements:\n",
    "        y1 = {i:isSymmetrical(i)}\n",
    "        D1.update(y1)\n",
    "    return D1\n",
    "\n",
    "elements = input(\"Enter word or numbers with spaces:\").split()\n",
    "\n",
    "print(isSymmetricalDict(elements))"
   ]
  },
  {
   "cell_type": "markdown",
   "metadata": {
    "id": "EXPv2CWzRDgl"
   },
   "source": [
    "**e)** **[10 pts]** Define a function called `isSymmetricalTuple` by modifying the function you created in Q1.d to traverse the values of the returned dictionary **in reverse order** and return the dictionary keys that has a **`TRUE`** value as a tuple.  For example, given \\[\"1441\", \"Apple\", \"radar\", \"232\", \"plane\"\\] the function returns (\"232\", \"radar\",\"1441\")."
   ]
  },
  {
   "cell_type": "code",
   "execution_count": 99,
   "metadata": {
    "id": "M25DHDYOUdpb"
   },
   "outputs": [
    {
     "name": "stdin",
     "output_type": "stream",
     "text": [
      "Enter word or numbers with spaces: 1441 Apple radar 232 plane\n"
     ]
    },
    {
     "name": "stdout",
     "output_type": "stream",
     "text": [
      "['232', 'radar', '1441']\n"
     ]
    }
   ],
   "source": [
    "#INSERT YOUR ANSWER HERE.\n",
    "\n",
    "elements = input(\"Enter word or numbers with spaces:\").split()\n",
    "\n",
    "def isSymmetrical (txt):\n",
    "    return txt==(txt) [::-1]\n",
    "\n",
    "def isSymmetricalTuple (elements):\n",
    "    D1 = {}\n",
    "    for i in elements:\n",
    "        y1 = {i:str(isSymmetrical(i))}\n",
    "        D1.update(y1)\n",
    "        keys = []\n",
    "        for (key, value) in D1.items():\n",
    "            if value == 'True':\n",
    "                keys.append(key)\n",
    "    answer = print(keys[::-1])\n",
    "    return answer\n",
    "\n",
    "isSymmetricalTuple(elements)"
   ]
  },
  {
   "cell_type": "markdown",
   "metadata": {
    "id": "ES2Lj2aup8BB"
   },
   "source": [
    "*****"
   ]
  },
  {
   "cell_type": "markdown",
   "metadata": {
    "id": "TEbtnn-0pg6K",
    "nteract": {
     "transient": {
      "deleting": false
     }
    }
   },
   "source": [
    "\n",
    "### Question 2 **[80 pts]** :"
   ]
  },
  {
   "cell_type": "markdown",
   "metadata": {
    "id": "FRw3RLJ0pg6M",
    "nteract": {
     "transient": {
      "deleting": false
     }
    }
   },
   "source": [
    "**a)** **[15 pts]** Define a function called `minSubStr` that takes two string arguments ( S and T ), and returns `TRUE` if the characters of *T* exist in *S*, else returns `FALSE`. For example: given `S = 'xBxxAxxCxxAxCxxBxxxAxCxBxxxAxxBxCx'` and `T = \"ABC\"`, returns `TRUE` (`T = \"ABCD\"`, returns `FALSE)`\n"
   ]
  },
  {
   "cell_type": "code",
   "execution_count": 104,
   "metadata": {
    "id": "PWvj1Z6lpg6N",
    "nteract": {
     "transient": {
      "deleting": false
     }
    },
    "tags": []
   },
   "outputs": [
    {
     "name": "stdout",
     "output_type": "stream",
     "text": [
      "False\n"
     ]
    }
   ],
   "source": [
    "#INSERT YOUR ANSWER HERE.\n",
    "\n",
    "S = 'xBxxxCxAxCxxBxxxxCxBxxxxBxCx'\n",
    "T = \"ABCD\"\n",
    "\n",
    "def miniSubStr(S,T):\n",
    "    S1 = list(set(S))\n",
    "    T1= list(set(T))\n",
    "    for keys in T1:\n",
    "        if S1.count(keys)==0:\n",
    "            return False\n",
    "    return True\n",
    "         \n",
    "print(miniSubStr(S,T))"
   ]
  },
  {
   "cell_type": "markdown",
   "metadata": {
    "id": "dGqJtsN4AvPB"
   },
   "source": [
    "**b)** **[15 pts]** Modify your `minSubStr` function defined in Q2.a to return the first possible substring (traversing from left) containing all the elements of `T`. For example: given `S = 'xBxxAxxCxxAxCxxBxxxAxCxBxxxAxxBxCx'` and `T = \"ABC\"`, returns **`\"BxxAxxC\"`**"
   ]
  },
  {
   "cell_type": "code",
   "execution_count": 3,
   "metadata": {
    "id": "DVOaFVZvAvPO",
    "pycharm": {
     "name": "#%%\n"
    },
    "tags": []
   },
   "outputs": [
    {
     "data": {
      "text/plain": [
       "'BxxAxxC'"
      ]
     },
     "execution_count": 3,
     "metadata": {},
     "output_type": "execute_result"
    }
   ],
   "source": [
    "#INSERT YOUR ANSWER HERE.\n",
    "\n",
    "S = 'xBxxAxxCxxAxCxxBxxxAxCxBxxxAxxBxCx'\n",
    "T = \"ABC\"\n",
    "\n",
    "def miniSubStr(S,T):\n",
    "    S1 = list(set(S))\n",
    "    T1= list(set(T))\n",
    "    for keys in T1:\n",
    "        if S1.count(keys)==0:\n",
    "            return False\n",
    "    return True\n",
    "\n",
    "def returnShortestSubStr(S,T):\n",
    "    S1 = list(set(S))\n",
    "    T1= list(set(T))\n",
    "    \n",
    "    min_str=S\n",
    "    \n",
    "    for ix,alphabet in enumerate(S):\n",
    "        if alphabet in T1:\n",
    "            sub_str=S[ix:]\n",
    "            for pointer in range(len(sub_str)):\n",
    "                if miniSubStr(sub_str[:pointer],T):\n",
    "                    return sub_str[:pointer]\n",
    "                    \n",
    "\n",
    "returnShortestSubStr(S,T)"
   ]
  },
  {
   "cell_type": "markdown",
   "metadata": {
    "id": "mkFrWZ3kAvPQ"
   },
   "source": [
    "**c)** **[20 pts]** Modify your `minSubStr` function defined in Q2.b to return the shortest substring containing all the elements of T. For example: given `S = 'xBxxAxxCxxAxCxxBxxxAxCxBxxxAxxBxCx'` and `T = \"ABC\"`, returns **`\"AxCxB\"`**\n"
   ]
  },
  {
   "cell_type": "code",
   "execution_count": 1,
   "metadata": {
    "id": "fP4sK_mKAvPR",
    "pycharm": {
     "name": "#%%\n"
    },
    "tags": []
   },
   "outputs": [
    {
     "data": {
      "text/plain": [
       "'AxCxB'"
      ]
     },
     "execution_count": 1,
     "metadata": {},
     "output_type": "execute_result"
    }
   ],
   "source": [
    "#INSERT YOUR ANSWER HERE.\n",
    "\n",
    "S = 'xBxxAxxCxxAxCxxBxxxAxCxBxxxAxxBxCx'\n",
    "T = \"ABC\"\n",
    "\n",
    "def miniSubStr(S,T):\n",
    "    S1 = list(set(S))\n",
    "    T1= list(set(T))\n",
    "    for keys in T1:\n",
    "        if S1.count(keys)==0:\n",
    "            return False\n",
    "    return True\n",
    "\n",
    "def returnfirstSubStr(S,T):\n",
    "    S1 = list(set(S))\n",
    "    T1= list(set(T))\n",
    "    \n",
    "    min_str=S\n",
    "    \n",
    "    for ix,alphabet in enumerate(S):\n",
    "        if alphabet in T1:\n",
    "            start=S[ix:].find(alphabet)\n",
    "            sub_str=S[start+ix:]\n",
    "            for pointer in range(len(sub_str)):\n",
    "                if miniSubStr(sub_str[:pointer],T):\n",
    "                    if len(min_str)>len(sub_str[:pointer]):\n",
    "                        min_str=sub_str[:pointer]\n",
    "    return min_str\n",
    "     \n",
    "returnfirstSubStr(S,T)\n"
   ]
  },
  {
   "cell_type": "markdown",
   "metadata": {
    "id": "TK1dYXTIYsh2"
   },
   "source": [
    "**d)** **[30 pts]** modify your `minSubStr` function defined in Q2.c to return the shortest substring containing all the elements of T in order. For example: given `S = 'xBxxAxxCxxAxCxxBxxxAxCxBxxxAxxBxCx'` and `T = \"ABC\"`, returns **`\"AxxBxC\"`**"
   ]
  },
  {
   "cell_type": "code",
   "execution_count": 2,
   "metadata": {
    "id": "M_I4iPfUY43m"
   },
   "outputs": [
    {
     "data": {
      "text/plain": [
       "'AxxBxC'"
      ]
     },
     "execution_count": 2,
     "metadata": {},
     "output_type": "execute_result"
    }
   ],
   "source": [
    "#INSERT YOUR ANSWER HERE.\n",
    "S = 'xBxxAxxCxxAxCxxBxxxAxCxBxxxAxxBxCx'\n",
    "T = \"ABC\"\n",
    "\n",
    "\n",
    "def returnOrderedSubStr(S,T):\n",
    "    T1= list((T))\n",
    "    for ix,alphabet in enumerate(S):\n",
    "        if alphabet == T1[0]:\n",
    "            sub_str=S[ix:]\n",
    "            found_point=0\n",
    "            for pointer in range(len(sub_str)):\n",
    "                if found_point==len(T1):\n",
    "                    return sub_str[:pointer]\n",
    "                if sub_str[pointer]==T1[found_point]:\n",
    "                    found_point=found_point+1\n",
    "                elif sub_str[pointer] in T1:\n",
    "                    break\n",
    "                \n",
    "                    \n",
    "returnOrderedSubStr(S,T)\n"
   ]
  },
  {
   "cell_type": "markdown",
   "metadata": {
    "id": "M9eJ34NNAvPT"
   },
   "source": [
    "*****"
   ]
  },
  {
   "cell_type": "markdown",
   "metadata": {
    "id": "NNVEX5FMq_I7"
   },
   "source": [
    "### Question 3 **[30 pts]**:\n"
   ]
  },
  {
   "cell_type": "markdown",
   "metadata": {
    "id": "oDRF95yUAvPW",
    "pycharm": {
     "name": "#%% md\n"
    }
   },
   "source": [
    "**a)** Complete the given code to define three classes, Shape, Oval and Circle. \n",
    "- Shape will be the parent class of Oval and Circle. \n",
    "- Randomly create ten objects from Oval and Circle classes using the ``for`` loop given below\n",
    "- Your code should produce correct number of Shapes, Circle and Oval objects. The count of objects should be calculated within the class definitions. \n",
    "  - Example output (note that since it is random every time it will be a different number of shapes) \\\\\n",
    "  There are  10 random shape objects ['Circle', 'Circle', 'Circle', 'Circle', 'Oval', 'Circle', 'Oval', 'Oval', 'Circle', 'Circle'] \\\\\n",
    "\t 3 of them are ovals \\\\\n",
    "\t 7 of them are cirlces \\\\\n"
   ]
  },
  {
   "cell_type": "code",
   "execution_count": 58,
   "metadata": {
    "id": "h6V2Y3iuBQ09"
   },
   "outputs": [
    {
     "name": "stdout",
     "output_type": "stream",
     "text": [
      "['Circle', 'Oval', 'Oval', 'Circle', 'Circle', 'Oval', 'Oval', 'Oval', 'Oval', 'Oval']\n",
      "Number of shape objects: 10\n",
      "Number of Oval objects: 7\n",
      "Number of Circle objects: 3\n"
     ]
    }
   ],
   "source": [
    "\n",
    "#INSERT YOUR ANSWER HERE.\n",
    "class Shape:\n",
    "    def __init__(self,name):\n",
    "        self.name = name\n",
    "\n",
    "from random import choice\n",
    "list_of_shapes = [choice(['Circle', 'Oval']) for x in range(10)]\n",
    "for shape in list_of_shapes:\n",
    "  if shape == 'Oval':\n",
    "   class Shape:\n",
    "    def __init__(self,name):\n",
    "        self.name = Oval\n",
    "    \n",
    "  else:\n",
    "    # create an object of circle class\n",
    "   class Shape:\n",
    "    def __init__(self,name):\n",
    "        self.name = Circle\n",
    "\n",
    "print(list_of_shapes)\n",
    "print(\"Number of shape objects:\",len(list_of_shapes))\n",
    "print(\"Number of Oval objects:\",list_of_shapes.count(\"Oval\"))\n",
    "print(\"Number of Circle objects:\",list_of_shapes.count(\"Circle\"))"
   ]
  },
  {
   "cell_type": "markdown",
   "metadata": {
    "id": "l9l0sjUoAvPk"
   },
   "source": [
    "#### This is the end of assignment 2"
   ]
  }
 ],
 "metadata": {
  "colab": {
   "collapsed_sections": [],
   "name": "CIND830W21_Assignment_2.ipynb",
   "provenance": []
  },
  "kernelspec": {
   "display_name": "Python 3",
   "language": "python",
   "name": "python3"
  },
  "language_info": {
   "codemirror_mode": {
    "name": "ipython",
    "version": 3
   },
   "file_extension": ".py",
   "mimetype": "text/x-python",
   "name": "python",
   "nbconvert_exporter": "python",
   "pygments_lexer": "ipython3",
   "version": "3.7.6"
  },
  "nteract": {
   "version": "0.25.1"
  },
  "varInspector": {
   "cols": {
    "lenName": 16,
    "lenType": 16,
    "lenVar": 40
   },
   "kernels_config": {
    "python": {
     "delete_cmd_postfix": "",
     "delete_cmd_prefix": "del ",
     "library": "var_list.py",
     "varRefreshCmd": "print(var_dic_list())"
    },
    "r": {
     "delete_cmd_postfix": ") ",
     "delete_cmd_prefix": "rm(",
     "library": "var_list.r",
     "varRefreshCmd": "cat(var_dic_list()) "
    }
   },
   "types_to_exclude": [
    "module",
    "function",
    "builtin_function_or_method",
    "instance",
    "_Feature"
   ],
   "window_display": false
  }
 },
 "nbformat": 4,
 "nbformat_minor": 4
}
