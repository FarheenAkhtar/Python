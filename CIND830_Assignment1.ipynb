{
 "cells": [
  {
   "cell_type": "markdown",
   "metadata": {
    "id": "kJ6ssXaGJfGN"
   },
   "source": [
    "## CIND830 - Python Programming for Data Science  \n",
    "### Assignment 1 (10% of the final grade) \n",
    "### Due on February 8, 2021 11:59 PM  "
   ]
  },
  {
   "cell_type": "markdown",
   "metadata": {
    "id": "UWjXw7DsJfGP"
   },
   "source": [
    "*****\n",
    "This is a Jupyter Notebook document that extends a simple formatting syntax for authoring HTML and PDF.\n",
    "Review [this](https://jupyter-notebook.readthedocs.io/en/stable/notebook.html) website for more details on using Jupyter Notebook.\n",
    "\n",
    "Use the JupyterHub server on the Google Cloud Platform, provided by your designated instructor, for this assignment. \n",
    "Ensure using **Python 3.7.6** release then complete the assignment by inserting your Python code wherever seeing the string \"#INSERT YOUR ANSWER HERE.\"\n",
    "\n",
    "When you click the `File` button, from the top navigation bar, then select `Export Notebook As ...`,\n",
    "a document (PDF or HTML format) will be generated that includes\n",
    " both the assignment content and the output of any embedded Python code chunks.\n",
    "\n",
    "Using [these](https://www.ryerson.ca/courses/students/tutorials/assignments/) guidelines,\n",
    "submit **both** the IPYNB and the exported file (PDF or HTML).\n",
    "Failing to submit both files will be subject to mark deduction."
   ]
  },
  {
   "cell_type": "markdown",
   "metadata": {
    "id": "RDm-t4u8JfGP"
   },
   "source": [
    "### Question 1 **[60 pts]**:\n",
    "\n",
    "\n",
    "\n",
    "A multi-valued function has been defined as follows\n",
    "\n",
    "$$\n",
    "f(x) = \\left\\{\n",
    "    \\begin{array}\\\\\n",
    "       ({\\frac{x^2}{|x|+2}})^2 & \\mbox{if} \\ x < 5 \\\\\n",
    "        {\\frac{x^2}{|x|+2}} & \\mbox{if} \\ x = 5 \\\\\n",
    "       \\sqrt{\\frac{x^2}{|x|+2} } & \\mbox{if} \\ x > 5 \n",
    "    \\end{array}\n",
    "\\right.\n",
    "$$"
   ]
  },
  {
   "cell_type": "markdown",
   "metadata": {
    "id": "vARdfJN_JfGQ"
   },
   "source": [
    "**a)** **[10 pts]** Write a program to ask the user to enter a floating-point real number, check whether the number is greater, equal or less than 5, then print the output according to the definition of the multi-valued function.\n",
    "\n",
    "For example, if the user enters `x = -57.8`, then the output should be:<br>\n",
    "`The value of f(x) is 3121.1093571660267`\n",
    "\n",
    "Hint: Use the `math` module as it provides access to some of the essential mathematical functions."
   ]
  },
  {
   "cell_type": "code",
   "execution_count": 1,
   "metadata": {
    "colab": {
     "base_uri": "https://localhost:8080/"
    },
    "id": "CldaDRWdJfGQ",
    "outputId": "402bc26e-0b7e-4067-8e31-765858adedc9"
   },
   "outputs": [
    {
     "name": "stdin",
     "output_type": "stream",
     "text": [
      "Enter a real number -57.8\n"
     ]
    },
    {
     "name": "stdout",
     "output_type": "stream",
     "text": [
      "The value of f(x) is 3121.1093571660267\n"
     ]
    }
   ],
   "source": [
    "#INSERT YOUR ANSWER HERE.\n",
    "import math\n",
    "\n",
    "#user is prompted to enter floating-point real number\n",
    "x = float(input(\"Enter a real number\"))\n",
    "\n",
    "#multi-way selection statement which defines output for each level of criteria\n",
    "if x < 5:\n",
    "    fx=((x**2)/(abs(x)+2))**2\n",
    "    print(\"The value of f(x) is\",fx)\n",
    "elif x==5:\n",
    "    fx=(x**2)/(abs(x)+2)\n",
    "    print(\"The value of f(x) is\",fx)\n",
    "else:\n",
    "    fx=((x**2)/(abs(x)+2))**1/2\n",
    "    print(\"The value of f(x) is\",fx)"
   ]
  },
  {
   "cell_type": "markdown",
   "metadata": {
    "id": "ZRoY5MRdJfGQ"
   },
   "source": [
    "**b)**  **[10 pts]** Round the output of Q1.a to the nearest ineteger, convert that integer to a list of digits, then print the result.  \n",
    "\n",
    "For example, if the user enters `x = -57.8`, then the output should be: <br>\n",
    "`The value of f(x) is  3121.1093571660267`<br>\n",
    "`The list of digits is  [3, 1, 2, 1] `"
   ]
  },
  {
   "cell_type": "code",
   "execution_count": 2,
   "metadata": {
    "colab": {
     "base_uri": "https://localhost:8080/"
    },
    "id": "b725VzBSJfGR",
    "outputId": "8934e90c-77f2-49cd-ec19-2a1865657f11"
   },
   "outputs": [
    {
     "name": "stdout",
     "output_type": "stream",
     "text": [
      "The value of f(x) is 3121.1093571660267\n",
      "The list of digits is [3, 1, 2, 1]\n"
     ]
    }
   ],
   "source": [
    "#INSERT YOUR ANSWER HERE.\n",
    "\n",
    "#round output from Q1.a\n",
    "Q1a = round(fx)\n",
    "\n",
    "#converting output into a string and storing object(s) in a list\n",
    "Output= list(str(Q1a))\n",
    "\n",
    "#creating an empty list\n",
    "List = []\n",
    "\n",
    "#create for- loop to convert string into integers and then adding them using .append() to List\n",
    "for counter in Output:\n",
    "    Q1a = int(counter)\n",
    "    List.append(Q1a)\n",
    "\n",
    "print(\"The value of f(x) is\",fx)\n",
    "print(\"The list of digits is\",List)"
   ]
  },
  {
   "cell_type": "markdown",
   "metadata": {
    "id": "__ArmJayJfGR"
   },
   "source": [
    "**c)**  **[10 pts]** Find and print the `Median`, `Average` and `Mode` of the generated list in Q1.b.  For example, having `list = [6, 7, 7, 4]`, the result should be `Median = 6.5; Average = 6; Mode = 7`.  Ensure notifying the user if there is no unique mode found, as the `Mode` in this exercise returns only the single most common data item in the list.\n",
    "\n",
    "For example, if the user enters `x = -57.8`, then the output should be: <br>\n",
    "`The value of f(x) is  3121.1093571660267`<br>\n",
    "`The list of digits is  [3, 1, 2, 1]` <br>\n",
    "`Median is 1.5 ; Average is 1.75 ; Mode =  1`\n",
    "\n",
    "However, if the user enters `x = -57.2`, then the output should be: <br>\n",
    "`The value of f(x) is  3054.5040248356463` <br>\n",
    "`The list of digits is  [3, 0, 5, 4]` <br>\n",
    "`Median is 3.5 ; Average is 3 ; No unique mode found`\n",
    "\n",
    "Hint: Use the `statistics` module as it provides functions to calculate mathematical statistics of numeric data."
   ]
  },
  {
   "cell_type": "code",
   "execution_count": 62,
   "metadata": {
    "colab": {
     "base_uri": "https://localhost:8080/"
    },
    "id": "UaxzqgFIJfGS",
    "outputId": "cb39d04d-3489-4016-c11c-0e5185b38545"
   },
   "outputs": [
    {
     "name": "stdout",
     "output_type": "stream",
     "text": [
      "The value of f(x) is 3121.1093571660267\n",
      "The list of digits is [3, 1, 2, 1]\n",
      "Median is 1.5 ; Average is 1.75 ;Mode = 1\n"
     ]
    }
   ],
   "source": [
    "#INSERT YOUR ANSWER HERE.\n",
    "\n",
    "import statistics\n",
    "\n",
    "#finding statistical measures using exception handling\n",
    "try:\n",
    "    Median= statistics.median(List)\n",
    "    Average= statistics.mean(List)\n",
    "    Mode= statistics.mode(List)\n",
    "    print(\"The value of f(x) is\",fx)\n",
    "    print(\"The list of digits is\",List)\n",
    "    print(\"Median is\",Median,\"; Average is\",Average,\";Mode =\",Mode)\n",
    "\n",
    "#raise an exception for non-unique \n",
    "except ValueError:\n",
    "    print(\"The value of f(x) is\",fx)\n",
    "    print(\"The list of digits is\",List)\n",
    "    print(\"Median is\",Median,\"; Average is\",Average,\";No unique mode found\")"
   ]
  },
  {
   "cell_type": "markdown",
   "metadata": {
    "id": "LswUhIjdJfGS"
   },
   "source": [
    "**d)**  **[10 pts]** Find and print the sum of squares of all the numbers of the list generated in Q1.b.  \n",
    "\n",
    "For example, if the user enters `x = -57.8`, then the output should be: <br>\n",
    "`The value of f(x) is  3121.1093571660267`<br>\n",
    "`The list of digits is  [3, 1, 2, 1]` <br>\n",
    "`The sum of squares is 15`  "
   ]
  },
  {
   "cell_type": "code",
   "execution_count": 65,
   "metadata": {
    "colab": {
     "base_uri": "https://localhost:8080/"
    },
    "id": "ICOioDlKJfGS",
    "outputId": "514c6ef3-26ef-4125-83dc-de84efe2be17"
   },
   "outputs": [
    {
     "name": "stdout",
     "output_type": "stream",
     "text": [
      "The value of f(x) is 3121.1093571660267\n",
      "The list of digits is [3, 1, 2, 1]\n",
      "The sum of squares is 15\n"
     ]
    }
   ],
   "source": [
    "#INSERT YOUR ANSWER HERE.\n",
    "\n",
    "#define a function for sum_of_squares\n",
    "def sum_of_squares(List):\n",
    "    sum_of_squares=0        #set counter to zero\n",
    "    for z in (List):        #count-controlled loop\n",
    "        product = z * z     \n",
    "        sum_of_squares += product\n",
    "    return sum_of_squares   #sends value of this code to wherever the function is called \n",
    "\n",
    "print(\"The value of f(x) is\",fx)\n",
    "print(\"The list of digits is\",List)\n",
    "print (\"The sum of squares is\",sum_of_squares(List))"
   ]
  },
  {
   "cell_type": "markdown",
   "metadata": {
    "id": "I-eeT2BtJfGT"
   },
   "source": [
    "**e)**  **[10 pts]** Find and print the least common multiple of the numbers in the list generated in Q1.b.  \n",
    "\n",
    "For example, if the user enters `x = -57.8`, then the output should be: <br>\n",
    "`The value of f(x) is  3121.1093571660267`<br>\n",
    "`The list of digits is  [3, 1, 2, 1]` <br>\n",
    "`The least common multiple is 6`"
   ]
  },
  {
   "cell_type": "code",
   "execution_count": 69,
   "metadata": {
    "colab": {
     "base_uri": "https://localhost:8080/"
    },
    "id": "gm0k-xWbJfGT",
    "outputId": "b96fe12c-be1e-4433-89ae-e35225efeda7"
   },
   "outputs": [
    {
     "name": "stdout",
     "output_type": "stream",
     "text": [
      "The value of f(x) is 3121.1093571660267\n",
      "The list of digits is [3, 1, 2, 1]\n",
      "The sum of squares is 6\n"
     ]
    }
   ],
   "source": [
    "#INSERT YOUR ANSWER HERE.\n",
    "\n",
    "import math\n",
    "\n",
    "# define a function to calculate LeastCommonMultiple\n",
    "def LeastCommonMultiple(a):\n",
    "  lcm = a[0]\n",
    "  for i in range(1,len(a)):\n",
    "    lcm = lcm*a[i]//math.gcd(lcm, a[i])\n",
    "  return lcm\n",
    "\n",
    "\n",
    "print(\"The value of f(x) is\",fx)\n",
    "print(\"The list of digits is\",List)\n",
    "print (\"The sum of squares is\",LeastCommonMultiple(List))\n"
   ]
  },
  {
   "cell_type": "markdown",
   "metadata": {
    "id": "WQP1V7zOJfGT"
   },
   "source": [
    "**f)**  **[10 pts]** Find and print the binary rpresentation of the numbers in the list generated in Q1.b.  \n",
    "\n",
    "For example, if the user enters `x = -57.8`, then the output should be: <br>\n",
    "`The value of f(x) is  3121.1093571660267`<br>\n",
    "`The list of digits is  [3, 1, 2, 1]` <br>\n",
    "`The binary representation is ['11', '1', '10', '1']` "
   ]
  },
  {
   "cell_type": "code",
   "execution_count": 91,
   "metadata": {
    "colab": {
     "base_uri": "https://localhost:8080/"
    },
    "id": "2GqP_jsyJfGU",
    "outputId": "0848745a-a0e7-4d51-e09a-c94959608cad"
   },
   "outputs": [
    {
     "name": "stdout",
     "output_type": "stream",
     "text": [
      "The value of f(x) is 3121.1093571660267\n",
      "The list of digits is [3, 1, 2, 1]\n",
      "The binary representation is [11, 1, 10, 1]\n"
     ]
    }
   ],
   "source": [
    "#INSERT YOUR ANSWER HERE.\n",
    "\n",
    "#define a function for binary representation of numbers in a list (and include conversion from str to int values)\n",
    "result= []\n",
    "\n",
    "def binary(List):\n",
    "    for i in List:\n",
    "        b = int(bin(i).replace(\"0b\", \"\"))\n",
    "        #print(b)\n",
    "        result.append (b)\n",
    "    return result\n",
    "\n",
    "\n",
    "print(\"The value of f(x) is\",fx)\n",
    "print(\"The list of digits is\",List)\n",
    "print (\"The binary representation is\",binary (List))\n"
   ]
  },
  {
   "cell_type": "markdown",
   "metadata": {
    "id": "pHcWCZ8mJfGU"
   },
   "source": [
    "*****"
   ]
  },
  {
   "cell_type": "markdown",
   "metadata": {
    "id": "O3jPbo4vAvPc"
   },
   "source": [
    "### Question 2  **[40 pts]**:\n",
    "\n",
    "Write a program that accepts the coefficients of the folllowing two lines as inputs\n",
    "\n",
    "Line1: $a_1x+b_1y + c_1 = 0$\n",
    "\n",
    "Line2: $a_2x+b_2y + c_2 = 0$\n",
    "\n",
    "Then checks whether the two lines are parallel, intersecting or overlapping according to the conditions listed below."
   ]
  },
  {
   "cell_type": "markdown",
   "metadata": {
    "id": "h_3gNcgeJfGU"
   },
   "source": [
    "**a)**  **[10 pts]** Intersecting lines: If $\\frac{a_1}{a_2} \\ne \\frac{b_1}{b_2}$"
   ]
  },
  {
   "cell_type": "code",
   "execution_count": 10,
   "metadata": {
    "id": "L1uEFS0GAvPg"
   },
   "outputs": [
    {
     "name": "stdin",
     "output_type": "stream",
     "text": [
      "Enter coefficent for x for Line1: 7\n",
      "Enter coefficent for y for Line1: 8\n",
      "Enter y-intercept for Line1: 9\n",
      "Enter coefficent for x for Line2: 2\n",
      "Enter coefficent for y for Line1: 5\n",
      "Enter y-intercept for Line2: 6\n"
     ]
    },
    {
     "name": "stdout",
     "output_type": "stream",
     "text": [
      "True\n"
     ]
    }
   ],
   "source": [
    "#INSERT YOUR ANSWER HERE.\n",
    "\n",
    "a1 = int(input(\"Enter coefficent for x for Line1:\"))\n",
    "b1 = int(input(\"Enter coefficent for y for Line1:\"))\n",
    "c1 = int(input(\"Enter y-intercept for Line1:\"))\n",
    "\n",
    "a2 = int(input(\"Enter coefficent for x for Line2:\"))\n",
    "b2 = int(input(\"Enter coefficent for y for Line1:\"))\n",
    "c2 = int(input(\"Enter y-intercept for Line2:\"))\n",
    "\n",
    "def intersecting_lines(Line1, Line2):\n",
    "  return Line1[0]/Line2[0] != Line1[1]/Line2[1] \n",
    "\n",
    "#a1x + b1y + c1= 0, a2x + b2y + c2= 0,\n",
    "print(intersecting_lines([a1,b1,c1], [a2,b2,c2]))"
   ]
  },
  {
   "cell_type": "markdown",
   "metadata": {
    "id": "b5J7kRLZAvPe"
   },
   "source": [
    "**b)**   **[10 pts]** Parallel lines: If the lines are not intersecting and $\\frac{a_1}{a_2} = \\frac{b_1}{b_2} \\ne \\frac{c_1}{c_2}$"
   ]
  },
  {
   "cell_type": "code",
   "execution_count": 11,
   "metadata": {
    "id": "bHHNxP0IAvPe"
   },
   "outputs": [
    {
     "name": "stdout",
     "output_type": "stream",
     "text": [
      "False\n"
     ]
    }
   ],
   "source": [
    "#INSERT YOUR ANSWER HERE.\n",
    "\n",
    "def parallel_lines(Line1, Line2):\n",
    "  return Line1[0]/Line2[0] == Line1[1]/Line2[1] != Line1[2]/Line2[2]\n",
    "\n",
    "#a1x + b1y + c1= 0, a2x + b2y + c2= 0,\n",
    "print(parallel_lines([a1,b1,c1], [a2,b2,c2]))"
   ]
  },
  {
   "cell_type": "markdown",
   "metadata": {
    "id": "6q5tUb98JfGV"
   },
   "source": [
    "**c)**   **[10 pts]** Overlapping lines: If the lines are not intersecting and $\\frac{a_1}{a_2} = \\frac{b_1}{b_2} = \\frac{c_1}{c_2}$"
   ]
  },
  {
   "cell_type": "code",
   "execution_count": 12,
   "metadata": {
    "id": "PvQTbdc8AvPi"
   },
   "outputs": [
    {
     "name": "stdout",
     "output_type": "stream",
     "text": [
      "False\n"
     ]
    }
   ],
   "source": [
    "#INSERT YOUR ANSWER HERE.\n",
    "\n",
    "def overlapping_lines(Line1, Line2):\n",
    "  return Line1[0]/Line2[0] == Line1[1]/Line2[1] == Line1[2]/Line2[2] \n",
    "\n",
    "#a1x + b1y + c1= 0, a2x + b2y + c2= 0,\n",
    "print(overlapping_lines([a1,b1,c1], [a2,b2,c2]))"
   ]
  },
  {
   "cell_type": "markdown",
   "metadata": {
    "id": "l9l0sjUoAvPk"
   },
   "source": [
    "**d)**   **[10 pts]** Plot the two lines graphically using the `matplotlib` and `numpy` libraries or any other suitable libraries. "
   ]
  },
  {
   "cell_type": "code",
   "execution_count": 13,
   "metadata": {
    "id": "cDqwtAjhAvPk"
   },
   "outputs": [
    {
     "data": {
      "image/png": "[encoded data removed]",
      "text/plain": [
       "<Figure size 432x288 with 1 Axes>"
      ]
     },
     "metadata": {
      "needs_background": "light"
     },
     "output_type": "display_data"
    }
   ],
   "source": [
    "## INSERT YOUR ANSWER HERE.\n",
    "\n",
    "#load plot library\n",
    "import numpy as np \n",
    "from matplotlib import pyplot as plt \n",
    "\n",
    "#create sequences of evenly spaced numbers \n",
    "x = np.linspace(0,10)\n",
    "\n",
    "#plot Line1 and Line2 \n",
    "y1 = -(c1 + a1*x)/b1\n",
    "y2 = -(c2+a2*x)/b2\n",
    "plt.plot(x, y1, label = \"Line1\")\n",
    "plt.plot(x,y2, label = \"Line2\")\n",
    "\n",
    "# Set the x axis label of the current axis.\n",
    "plt.xlabel('x - axis')\n",
    "# Set the y axis label of the current axis.\n",
    "plt.ylabel('y - axis')\n",
    "# Set a title of the current axes.\n",
    "plt.title('Question2')\n",
    "\n",
    "plt.show()\n",
    "\n"
   ]
  },
  {
   "cell_type": "markdown",
   "metadata": {
    "id": "1pXjKc23jXTj"
   },
   "source": [
    "*****"
   ]
  },
  {
   "cell_type": "markdown",
   "metadata": {
    "id": "liJoAmA1LGOz"
   },
   "source": [
    "### Question 3  **[30 pts]**:\r\n",
    "Write a code for a Number Guessing Game. \r\n",
    "The code assigns a random integer number from a given interval to a varible, then asks the user to make a guess to find that number. \r\n",
    "\r\n",
    "Do not forget to check the validity of the selected number:\r\n",
    "- Is it an integer?\r\n",
    "- Is it an integer that lies in the given range?"
   ]
  },
  {
   "cell_type": "markdown",
   "metadata": {
    "id": "13g6-UkaB2bW"
   },
   "source": [
    "**a)**  **[10 pts]** Follow these steps to implement a simple version of the game:\r\n",
    "- The code assigns a random integer number between 0 and 100 to a variable.\r\n",
    "- The code gives the user only one chance to guess that number. \r\n",
    "- The output of the code should be either 'correct' or 'wrong'.\r\n",
    "\r\n",
    "Hint:  Use the `random` module to generate a pseudo-random number."
   ]
  },
  {
   "cell_type": "code",
   "execution_count": 103,
   "metadata": {
    "id": "pgjCsUosSprl"
   },
   "outputs": [
    {
     "name": "stdout",
     "output_type": "stream",
     "text": [
      "25\n"
     ]
    },
    {
     "name": "stdin",
     "output_type": "stream",
     "text": [
      "Can you guess the random integer 25\n"
     ]
    },
    {
     "name": "stdout",
     "output_type": "stream",
     "text": [
      "Correct\n"
     ]
    }
   ],
   "source": [
    "#INSERT YOUR ANSWER HERE.\n",
    "\n",
    "# Choose a random integer between 0 and 100 to a variable.\n",
    "\n",
    "import random\n",
    "number = random.randint(0,100)\n",
    "\n",
    "var = number\n",
    "print(var)\n",
    "\n",
    "#User gets one chance to guess that number\n",
    "user_guess = int(input(\"Can you guess the random integer\"))\n",
    "\n",
    "if user_guess == var:\n",
    "    print (\"Correct\")\n",
    "\n",
    "else:\n",
    "    print(\"Wrong\")"
   ]
  },
  {
   "cell_type": "markdown",
   "metadata": {
    "id": "QLa2BEzGBzAc"
   },
   "source": [
    "**b)**  **[10 pts]** Since it is difficult to guess a number in one try, let us give chances and clues. \r\n",
    "\r\n",
    "With unlimited trials and a random integer number in the inclusive range from 0 to 100, the code will compare the first guess with the random number and tell the user if the random number is lower or higher than the user's guess, and so on untill the user correctly guesses the random integer number. "
   ]
  },
  {
   "cell_type": "code",
   "execution_count": 110,
   "metadata": {
    "id": "DhhjKEO9_TG7"
   },
   "outputs": [
    {
     "name": "stdin",
     "output_type": "stream",
     "text": [
      "Enter an integer from 1 to 99:  88\n"
     ]
    },
    {
     "name": "stdout",
     "output_type": "stream",
     "text": [
      "guess is high\n"
     ]
    },
    {
     "name": "stdin",
     "output_type": "stream",
     "text": [
      "Enter an integer from 1 to 99:  10\n"
     ]
    },
    {
     "name": "stdout",
     "output_type": "stream",
     "text": [
      "guess is low\n"
     ]
    },
    {
     "name": "stdin",
     "output_type": "stream",
     "text": [
      "Enter an integer from 1 to 99:  15\n"
     ]
    },
    {
     "name": "stdout",
     "output_type": "stream",
     "text": [
      "guess is low\n"
     ]
    },
    {
     "name": "stdin",
     "output_type": "stream",
     "text": [
      "Enter an integer from 1 to 99:  25\n"
     ]
    },
    {
     "name": "stdout",
     "output_type": "stream",
     "text": [
      "you guessed it!\n"
     ]
    }
   ],
   "source": [
    "#INSERT YOUR ANSWER HERE.\n",
    "\n",
    "guess = int(input(\"Enter an integer from 1 to 99: \"))\n",
    "while number != \"guess\":\n",
    "    print\n",
    "    if guess < number:\n",
    "        print (\"guess is low\")\n",
    "        guess = int(input(\"Enter an integer from 1 to 99: \"))\n",
    "    elif guess > number:\n",
    "        print (\"guess is high\")\n",
    "        guess = int(input(\"Enter an integer from 1 to 99: \"))\n",
    "    else:\n",
    "        print (\"you guessed it!\")\n",
    "        break\n",
    "    print"
   ]
  },
  {
   "cell_type": "markdown",
   "metadata": {
    "id": "bvWLIEBTFNE1"
   },
   "source": [
    "**c)**  **[10 pts]** Let us develop a better version of the program by limiting the number of chances for guessing the random number based on the interval's boundaries.  \r\n",
    "\r\n",
    " \r\n",
    "Start with asking the user to enter two numbers, being the lower and upper bounds of the interval from which the random number will be selected. After the application chooses the random number based on the entered boundaries, find and print the number of attempts given to the user by computing the square root of the difference between the lower and upper bounds.\r\n",
    "\r\n",
    "Notably, the lower-bound value must be at least 1, and the upper-bound value must be higher than the lower-bound one.\r\n"
   ]
  },
  {
   "cell_type": "code",
   "execution_count": 4,
   "metadata": {
    "colab": {
     "base_uri": "https://localhost:8080/"
    },
    "id": "MexIqFs8EH63",
    "outputId": "e1a7b697-b124-4318-a986-8ec1138e0bf5"
   },
   "outputs": [
    {
     "name": "stdin",
     "output_type": "stream",
     "text": [
      "Enter the first number of the range:  99\n",
      "Enter the last number of the range:  99\n"
     ]
    },
    {
     "name": "stdout",
     "output_type": "stream",
     "text": [
      "Both numbers cannot be the same\n",
      "You have 0 attempt(s) to guess the number\n"
     ]
    }
   ],
   "source": [
    "### INSERT YOUR ANSWER HERE.\n",
    "import random\n",
    "\n",
    "#ask user to enter 2 numbers\n",
    "#(\"The number you will guess will be taken from a range you can set\")\n",
    "a = int(input(\"Enter the first number of the range: \"))\n",
    "b = int(input(\"Enter the last number of the range: \"))\n",
    "\n",
    "#assign them as upper and lower bounds from which the random number is selected\n",
    "max1 = max(a,b)\n",
    "min1 = min(a,b)\n",
    "\n",
    "#restrict lower-bound value to atleast1\n",
    "if min1==0:\n",
    "    print(\"lower bound cannot be zero\")\n",
    "\n",
    "#restrict upper-bound value to a value higher than the lower bound\n",
    "elif max1==min1:\n",
    "    print(\"Both numbers cannot be the same\")\n",
    "\n",
    "#application chooses the random number based on the entered boundaries  \n",
    "else:\n",
    "    n = random.randrange(min1,max1)\n",
    "#print(n)\n",
    "                         \n",
    "#find and print the number of attempts given to the user by computing the \n",
    "#square root of the difference between the lower and upper bounds\n",
    "\n",
    "#Allow for minimum one attempt\n",
    "guess_attempts = int(((max1-min1)**0.5))\n",
    "#if guess_attempts == 0:\n",
    "#    guess_attempts = 1\n",
    "\n",
    "print(\"You have\",guess_attempts,\"attempt(s) to guess the number\")"
   ]
  },
  {
   "cell_type": "code",
   "execution_count": null,
   "metadata": {},
   "outputs": [],
   "source": []
  },
  {
   "cell_type": "markdown",
   "metadata": {
    "id": "E7H-NKYDjaiE"
   },
   "source": [
    "*****"
   ]
  },
  {
   "cell_type": "markdown",
   "metadata": {
    "id": "2XrFEyymLKnR"
   },
   "source": [
    "### Question 4  **[30 pts]**:\r\n",
    "\r\n",
    "Write a code for The Hangman Game. In this game, the user only enters the number of letters existing in that word, and the computer tries to guess them based on a fixed number of attempts.  The game ends if the computer correctly guessed all the letters in order or used all of the given attempts."
   ]
  },
  {
   "cell_type": "code",
   "execution_count": 5,
   "metadata": {},
   "outputs": [
    {
     "name": "stdout",
     "output_type": "stream",
     "text": [
      "Guess a bird to begin the game.The length of the name will be my number guesses\n"
     ]
    },
    {
     "name": "stdin",
     "output_type": "stream",
     "text": [
      "Which bird are we guessing? Enter here jay\n",
      "How long is your word? Enter here 3\n"
     ]
    },
    {
     "name": "stdout",
     "output_type": "stream",
     "text": [
      "auk\n",
      "I guessed a which is in your word\n",
      "I guessed u which is a wrong attempt: 1\n",
      "I'm done with my attempts\n",
      "Sorry, I lost\n",
      "I guessed k which is a wrong attempt: 2\n",
      "I'm done with my attempts\n",
      "Sorry, I lost\n"
     ]
    }
   ],
   "source": [
    "### INSERT YOUR ANSWER HERE.\n",
    "\n",
    "#Establish the data set for the computer's dictionary\n",
    "##Note to TA - I didn't want to import online sources incase the online data set is suddenly removed\n",
    "dictionary = ['tinamou','ostrich','rhea','cassowary','emu','kiwi','megapode','chachalaca','curassow','guan','guineafowl',\n",
    "              'quail','pheasant','fowl','screamer','magpie','goose','duck','geese','swan','loon','penguin','albatross',\n",
    "              'petrel','shearwater','grebe','flamingo','tropicbird','stork','ibis','spoonbill','heron','bittern','hamerkop',\n",
    "              'shoebill','pelican','frigatebird','gannet','booby','cormorant','shag','anhinga','darter','vulture',\n",
    "              'secretarybird','osprey','kite','Hawk','eagle','caracara','falcon','bustard','mesite','seriema','kagu',\n",
    "              'sunbittern','flufftail','finfoot','rail','crake','coot','trumpeter','crane','limpkin','buttonquail',\n",
    "              'stonecurlew','thickknees','sheathbill','plover','oystercatcher','ibisbill','stilt','avocet','snipe','jacana',\n",
    "              'plainswanderer','sandpiper','courser','pratincole','gull','tern','skimmer','skua','auk','sandgrouse','pigeon',\n",
    "              'dove','parrot','cockatoo','hoatzin','turaco','cuckoo','barnowl','owl','frogmouth','oilbird','potoo','nightjar',\n",
    "              'treeswift','swift','hummingbird','mousebird','trogon','roller','kingfisher','tody','motmot','beeeater','hoopoe',\n",
    "              'hornbill','jacamar','puffbird','barbet','toucan','honeyguide','woodpecker','wren','broadbill','pitta','ovenbird',\n",
    "              'antbird','antthrush','antpitta','gnateater','tapaculo','crescentchest','flycatcher','cotinga','manakin','tityra',\n",
    "              'becard','lyrebird','scrubbird','bowerbird','treecreeper','honeyeater','bristlebird','pardalote','logrunner',\n",
    "              'satinbird','berrypecker','longbill','wattlebird','stitchbird','whipbird','wattleeye','batise','woodshrike',\n",
    "              'helmetshrike','bushshrike','boatbill','vanga','butcherbird','bristlehead','woodswallow','iora','cuckooshrike',\n",
    "              'sittella','whistler','shrike','vireo','greenlet','figbird','oriole','drongo','fantail','monarch','crow','jay','mudnester',\n",
    "              'birdsofparadise','robin','rockfowl','rockjumper','waxwing','hypocolius','palmchat','hylocitrea','tit','chickadee',\n",
    "              'reedling','nicator','lark','bulbul','martin','babbler','crombec','warbler','bushtit','grassbird','donacobius',\n",
    "              'laughingthrushes','thrush','cisticola','parrotbill','myzornis','sugarbirds','bluebirds','kinglet','goldcrest','hyliota',\n",
    "              'gnatcatcher','nuthatch','wallcreeper','mockingbird','thrasher','starling','rhabdornis','oxpecker','dipper','leafbird',\n",
    "              'flowerpecker','sunbird','snowfinch','weaver','widowbird','waxbill','munia','whydah','indigobird','accentor','wagtail',\n",
    "              'pipit','finch','oropendola','blackbird','bananaquit','bunting','tanager','longspur','grosbeak','saltator']\n",
    "\n",
    "\n",
    "#User is asked to guess a word from a certain subject area of the dictionary\n",
    "print(\"Guess a bird to begin the game.The length of the name will be my number guesses\")\n",
    "user_word = (input(\"Which bird are we guessing? Enter here\"))\n",
    "\n",
    "max_attempts = int(input(\"How long is your word? Enter here\"))\n",
    "\n",
    "#Computer shortlists the words based on length \n",
    "def by_size(words,size):\n",
    "    result = []\n",
    "    for word in words:\n",
    "        if len(word)==size:\n",
    "            result.append(word)\n",
    "    return result\n",
    "\n",
    "New_dictionary = by_size(dictionary,max_attempts)\n",
    "#print(New_dictionary)\n",
    "\n",
    "#Additional check to pick one random word from shortlisted list and separate them into unique letters\n",
    "import random\n",
    "System_guess = random.choice(New_dictionary)\n",
    "print(System_guess)\n",
    "\n",
    "def StringConversion(l):\n",
    "    string1 = \" \"\n",
    "    return (string1.join(l)) \n",
    " \n",
    "ns = (StringConversion(System_guess))\n",
    "#print(\"This is the new string\",ns)\n",
    "\n",
    "def removeDuplicate(str, n): \n",
    "    counter = 0 \n",
    "    for i in range(0, n): \n",
    "        for j in range(0, i + 1): \n",
    "            if (str[i] == str[j]): \n",
    "                break\n",
    "\n",
    "        if (j == i): \n",
    "            str[counter] = str[i] \n",
    "            counter += 1\n",
    "              \n",
    "    return \"\".join(str[:counter]) \n",
    "\n",
    "nosp = ns.replace(\" \", \"\")\n",
    "us= removeDuplicate(list(nosp),len(nosp))\n",
    "\n",
    "#print(\"This is the unique letters of similar legnth\",us)\n",
    "\n",
    "#Computer starts guessing from list of unique letters and through each iteration, abstains from usedletters\n",
    "\n",
    "Turn = 0\n",
    "usedletters = []\n",
    "while True:\n",
    "    for my_guess in us:\n",
    "        if my_guess not in usedletters:\n",
    "            if my_guess in user_word:\n",
    "                print(\"I guessed\",my_guess,\"which is in your word\")\n",
    "            \n",
    "            else:\n",
    "                Turn += 1\n",
    "                print(\"I guessed\",my_guess,\"which is a wrong attempt: %d\" % Turn)\n",
    "\n",
    "                Turn == max_attempts\n",
    "                print(\"I'm done with my attempts\")\n",
    "                print(\"Sorry, I lost\")\n",
    "                usedletters.append(my_guess)\n",
    "    break\n",
    "                    \n",
    "                \n",
    "\n",
    "while Turn == 0:\n",
    "    if System_guess == user_word:\n",
    "        print (\"I won! I guessed the word\",System_guess)\n",
    "        break\n",
    "    else:\n",
    "        print(\"Sorry, I lost\")\n",
    "        break"
   ]
  },
  {
   "cell_type": "markdown",
   "metadata": {
    "id": "7vRukEN2JfGX"
   },
   "source": [
    "#### This is the end of assignment 1"
   ]
  }
 ],
 "metadata": {
  "colab": {
   "collapsed_sections": [],
   "name": "CIND830F20 Assignment 1 QA_shared.ipynb",
   "provenance": []
  },
  "kernelspec": {
   "display_name": "Python 3",
   "language": "python",
   "name": "python3"
  },
  "language_info": {
   "codemirror_mode": {
    "name": "ipython",
    "version": 3
   },
   "file_extension": ".py",
   "mimetype": "text/x-python",
   "name": "python",
   "nbconvert_exporter": "python",
   "pygments_lexer": "ipython3",
   "version": "3.7.6"
  },
  "nteract": {
   "version": "0.27.0"
  },
  "varInspector": {
   "cols": {
    "lenName": 16,
    "lenType": 16,
    "lenVar": 40
   },
   "kernels_config": {
    "python": {
     "delete_cmd_postfix": "",
     "delete_cmd_prefix": "del ",
     "library": "var_list.py",
     "varRefreshCmd": "print(var_dic_list())"
    },
    "r": {
     "delete_cmd_postfix": ") ",
     "delete_cmd_prefix": "rm(",
     "library": "var_list.r",
     "varRefreshCmd": "cat(var_dic_list()) "
    }
   },
   "types_to_exclude": [
    "module",
    "function",
    "builtin_function_or_method",
    "instance",
    "_Feature"
   ],
   "window_display": false
  }
 },
 "nbformat": 4,
 "nbformat_minor": 4
}
